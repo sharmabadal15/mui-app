{
 "cells": [
  {
   "cell_type": "code",
   "execution_count": null,
   "id": "4bc2ef5c-7c4c-49be-a170-86d188d774ae",
   "metadata": {},
   "outputs": [],
   "source": [
    "import os\n",
    "from openai import AzureOpenAI\n",
    "import PyPDF2"
   ]
  },
  {
   "cell_type": "code",
   "execution_count": 2,
   "id": "f2ec5a1c-4593-4b9d-9222-60f525ceb5e7",
   "metadata": {},
   "outputs": [
    {
     "ename": "NameError",
     "evalue": "name 'PyPDF2' is not defined",
     "output_type": "error",
     "traceback": [
      "\u001b[0;31m---------------------------------------------------------------------------\u001b[0m",
      "\u001b[0;31mNameError\u001b[0m                                 Traceback (most recent call last)",
      "Cell \u001b[0;32mIn[2], line 2\u001b[0m\n\u001b[1;32m      1\u001b[0m \u001b[38;5;66;03m# creating a pdf reader object\u001b[39;00m\n\u001b[0;32m----> 2\u001b[0m reader \u001b[38;5;241m=\u001b[39m \u001b[43mPyPDF2\u001b[49m\u001b[38;5;241m.\u001b[39mPdfReader(\u001b[38;5;124m'\u001b[39m\u001b[38;5;124mcrop.pdf\u001b[39m\u001b[38;5;124m'\u001b[39m)\n\u001b[1;32m      3\u001b[0m user_prompt\u001b[38;5;241m=\u001b[39m\u001b[38;5;124m'\u001b[39m\u001b[38;5;124m'\u001b[39m\n\u001b[1;32m      4\u001b[0m \u001b[38;5;28;01mfor\u001b[39;00m i \u001b[38;5;129;01min\u001b[39;00m \u001b[38;5;28mrange\u001b[39m(\u001b[38;5;28mlen\u001b[39m(reader\u001b[38;5;241m.\u001b[39mpages)):\n",
      "\u001b[0;31mNameError\u001b[0m: name 'PyPDF2' is not defined"
     ]
    }
   ],
   "source": [
    "# creating a pdf reader object\n",
    "reader = PyPDF2.PdfReader('crop.pdf')\n",
    "user_prompt=''\n",
    "for i in range(len(reader.pages)):\n",
    "    user_prompt += reader.pages[i].extract_text()"
   ]
  },
  {
   "cell_type": "code",
   "execution_count": 4,
   "id": "a15fc7c0-0b6b-4e1f-a387-c3204ded4d25",
   "metadata": {},
   "outputs": [],
   "source": [
    "predicted_crop= \"maize\""
   ]
  },
  {
   "cell_type": "code",
   "execution_count": 5,
   "id": "2f6b1aed-a700-4985-80f9-8e87a6c2b2af",
   "metadata": {},
   "outputs": [],
   "source": [
    "endpoint = os.getenv(\"ENDPOINT_URL\", \"https://sparcopenai.openai.azure.com/\")\n",
    "deployment = os.getenv(\"DEPLOYMENT_NAME\", \"spmod1\")\n",
    "OPENAI_API_KEY = \"7e4eacc1a88f48c481c1dd2727d3979e\""
   ]
  },
  {
   "cell_type": "code",
   "execution_count": 6,
   "id": "d5380833-a986-42e7-85e2-b1c559a88c4a",
   "metadata": {},
   "outputs": [],
   "source": [
    "client = AzureOpenAI(\n",
    "    azure_endpoint=endpoint,\n",
    "    api_version=\"2024-05-01-preview\",\n",
    "    api_key=OPENAI_API_KEY\n",
    ")"
   ]
  },
  {
   "cell_type": "code",
   "execution_count": 7,
   "id": "3407768c-bc51-41fc-bd4e-2e6003f3645c",
   "metadata": {},
   "outputs": [],
   "source": [
    "# System message\n",
    "system_message = \"\"\"\n",
    "[INST]<<SYS>> You are a data scientist and your job is to summarize ML model output explanation.\n",
    "The output should strictly be in following sections: 1) \"Important Drivers\" 2) \"Prediction Methodology\" \n",
    "3) Explain, point wise, why is the {0} as a crop recommended. \n",
    "Make sure you replace any logical symbol with plain english words.\n",
    "<</SYS>>[/INST]\n",
    "\"\"\".format(predicted_crop)"
   ]
  },
  {
   "cell_type": "code",
   "execution_count": 8,
   "id": "0520b32e-a856-45ae-8dd6-74baff5544e7",
   "metadata": {},
   "outputs": [],
   "source": [
    "prompt = f\"{user_prompt}\\n{system_message}\""
   ]
  },
  {
   "cell_type": "code",
   "execution_count": 9,
   "id": "cd04191d-957c-4187-b568-ffde75f31e1a",
   "metadata": {},
   "outputs": [],
   "source": [
    "completion = client.chat.completions.create(\n",
    "    model=deployment,\n",
    "    messages= [\n",
    "    {\n",
    "      \"role\": \"user\",\n",
    "      \"content\": prompt\n",
    "    }],\n",
    "    max_tokens=3500,\n",
    "    temperature=0.7,\n",
    "    top_p=0.95,\n",
    "    frequency_penalty=0,\n",
    "    presence_penalty=0,\n",
    "    stop=None,\n",
    "    stream=False\n",
    ")\n",
    "# print(completion.to_json())"
   ]
  },
  {
   "cell_type": "code",
   "execution_count": 10,
   "id": "4d97bab5-2710-4932-802a-fcbb57231d90",
   "metadata": {},
   "outputs": [],
   "source": [
    "import json"
   ]
  },
  {
   "cell_type": "code",
   "execution_count": 11,
   "id": "58bebebd-bac2-417c-958d-4b639488b19d",
   "metadata": {},
   "outputs": [],
   "source": [
    "data= completion.to_json()"
   ]
  },
  {
   "cell_type": "code",
   "execution_count": 138,
   "id": "e427cea3-92dc-4b19-91b9-945329db31f8",
   "metadata": {},
   "outputs": [],
   "source": [
    "# print(completion.to_json()['choices'][0]['message']['content'])"
   ]
  },
  {
   "cell_type": "code",
   "execution_count": 12,
   "id": "34a93a16-8aa6-4687-b7df-b2ede77e6113",
   "metadata": {},
   "outputs": [
    {
     "data": {
      "text/plain": [
       "'\"Important Drivers\"\\n\\nThe significant drivers in the dataset are humidity, rainfall, K, P, and N. The importance of these features in descending order is as follows: \\n\\n1. Humidity: 26%\\n2. Rainfall: 24%\\n3. K: 22%\\n4. P: 15%\\n5. N: 14%\\n\\n\"Prediction Methodology\"\\n\\nThe prediction is made using decision trees that take into account the features of the data such as humidity, rainfall, K, P, and N. The decision tree divides the data into smaller subsets while at the same time an associated decision tree is incrementally developed. The final result is a tree with decision nodes and leaf nodes. \\n\\nFor instance, rice is predicted as a crop when the conditions are as follows: \\n- Rainfall is greater than 123.59 \\n- Humidity is between 80.54 and 89.91 \\n- P is between 28.00 and 51.00\\n- N is less than or equal to 85.00 \\n- K is less than or equal to 49.00 \\n\\nWhy is rice as a crop recommended?\\n\\n1. High Rainfall: Rice as a crop requires substantial rainfall. In this case, the rainfall is greater than 123.59, which makes the conditions suitable for rice farming. \\n\\n2. Ideal Humidity: Rice grows best in high humidity. Here, the humidity is between 80.54 and 89.91, which is optimal for rice cultivation. \\n\\n3. Appropriate Levels of Phosphorous (P): The P value is between 28.00 and 51.00. Phosphorous is essential for energy transfer and storage in plants, and this range is appropriate for rice growth. \\n\\n4. Nitrogen Levels (N): Nitrogen is essential for protein formation in plants. The N value here is less than or equal to 85.00, which is adequate for rice farming. \\n\\n5. Potassium Content (K): The K value is less than or equal to 49.00. Potassium helps in water regulation in plants, and the current value is suitable for rice growth.'"
      ]
     },
     "execution_count": 12,
     "metadata": {},
     "output_type": "execute_result"
    }
   ],
   "source": [
    "data_str = json.loads(data)\n",
    "\n",
    "# Extracting the \"message\" content\n",
    "data_str['choices'][0]['message']['content']"
   ]
  },
  {
   "cell_type": "code",
   "execution_count": null,
   "id": "9a6edb16-7e8f-4a35-bdb3-9f368512f060",
   "metadata": {},
   "outputs": [],
   "source": []
  }
 ],
 "metadata": {
  "kernelspec": {
   "display_name": "Python 3 (ipykernel)",
   "language": "python",
   "name": "python3"
  },
  "language_info": {
   "codemirror_mode": {
    "name": "ipython",
    "version": 3
   },
   "file_extension": ".py",
   "mimetype": "text/x-python",
   "name": "python",
   "nbconvert_exporter": "python",
   "pygments_lexer": "ipython3",
   "version": "3.9.6"
  }
 },
 "nbformat": 4,
 "nbformat_minor": 5
}
